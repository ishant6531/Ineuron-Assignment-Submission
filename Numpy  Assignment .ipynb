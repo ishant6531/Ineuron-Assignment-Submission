{
 "cells": [
  {
   "cell_type": "markdown",
   "metadata": {},
   "source": [
    "Given a sequence of n values x1, x2, ..., xn and a window size k>0, the k-th moving average of \n",
    "the given sequence is defined as follows: The moving average sequence has n-k+1 elements \n",
    "as shown below. The moving averages with k=4 of a ten-value sequence (n=10)\n",
    "is shown below i 1 2 3 4 5 6 7 8 9 10 ===== == == == == == == == == == == Input 10 20 30 40 50 60 70 80 90 100 y1 25 = (10+20+30+40)/4 y2 35 = (20+30+40+50)/4 y3 45 = (30+40+50+60)/4 y4 55 = (40+50+60+70)/4 y5 65 = (50+60+70+80)/4 y6 75 = (60+70+80+90)/4 y7 85 = (70+80+90+100)/4\n",
    "\n",
    "Thus, the moving average sequence has n-k+1=10-4+1=7 values.\n",
    "\n",
    "Write a function to find moving average in an array over a window:\n",
    "Test it over [3, 5, 7, 2, 8, 10, 11, 65, 72, 81, 99, 100, 150] and window of 3."
   ]
  },
  {
   "cell_type": "code",
   "execution_count": 1,
   "metadata": {},
   "outputs": [
    {
     "name": "stdout",
     "output_type": "stream",
     "text": [
      "Input: Moving average of values  [3, 5, 7, 2, 8, 10, 11, 65, 72, 81, 99, 100, 150]  are :\n",
      "\n",
      "Output:\n",
      " [  5.           4.66666667   5.66666667   6.66666667   9.66666667\n",
      "  28.66666667  49.33333333  72.66666667  84.          93.33333333\n",
      " 116.33333333]\n"
     ]
    }
   ],
   "source": [
    "import numpy as num_py\n",
    "\n",
    "# function\n",
    "def moving_average_seq(input_array,k):\n",
    "    ''' This function will return moving average in an array.'''\n",
    "    val_array=num_py.cumsum(input_array,dtype=float)    \n",
    "    val_array[3:]=val_array[3:]-val_array[:-3]\n",
    "    return val_array[3-1:]/3\n",
    "\n",
    "#input values \n",
    "lst =[3, 5, 7, 2, 8, 10, 11, 65, 72, 81, 99, 100, 150]\n",
    "input_array = num_py.array(lst)\n",
    "    \n",
    "# output \n",
    "# Thus, total movieng average sequence are 13-3+1 = 11 values  ; where n=13 , k=3\n",
    "output_array=moving_average_seq(input_array,k=3)\n",
    "print(\"Input: Moving average of values \",lst,\" are :\\n\")\n",
    "print(\"Output:\\n\",output_array)"
   ]
  },
  {
   "cell_type": "code",
   "execution_count": null,
   "metadata": {},
   "outputs": [],
   "source": []
  },
  {
   "cell_type": "code",
   "execution_count": null,
   "metadata": {},
   "outputs": [],
   "source": []
  }
 ],
 "metadata": {
  "kernelspec": {
   "display_name": "Python 3",
   "language": "python",
   "name": "python3"
  },
  "language_info": {
   "codemirror_mode": {
    "name": "ipython",
    "version": 3
   },
   "file_extension": ".py",
   "mimetype": "text/x-python",
   "name": "python",
   "nbconvert_exporter": "python",
   "pygments_lexer": "ipython3",
   "version": "3.7.6"
  }
 },
 "nbformat": 4,
 "nbformat_minor": 4
}
